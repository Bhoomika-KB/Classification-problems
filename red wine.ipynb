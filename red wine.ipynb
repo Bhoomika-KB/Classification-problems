{
 "cells": [
  {
   "cell_type": "markdown",
   "metadata": {},
   "source": [
    "# Importing libraries"
   ]
  },
  {
   "cell_type": "code",
   "execution_count": 70,
   "metadata": {},
   "outputs": [],
   "source": [
    "import numpy as np\n",
    "import pandas as pd\n",
    "import seaborn as sns\n",
    "import matplotlib.pyplot as plt"
   ]
  },
  {
   "cell_type": "code",
   "execution_count": 71,
   "metadata": {},
   "outputs": [],
   "source": [
    "data=pd.read_csv('C:/Users/RANVI/Desktop/red wine/taskFile1580882753721-feb10-6benches')"
   ]
  },
  {
   "cell_type": "code",
   "execution_count": 72,
   "metadata": {},
   "outputs": [
    {
     "data": {
      "text/html": [
       "<div>\n",
       "<style scoped>\n",
       "    .dataframe tbody tr th:only-of-type {\n",
       "        vertical-align: middle;\n",
       "    }\n",
       "\n",
       "    .dataframe tbody tr th {\n",
       "        vertical-align: top;\n",
       "    }\n",
       "\n",
       "    .dataframe thead th {\n",
       "        text-align: right;\n",
       "    }\n",
       "</style>\n",
       "<table border=\"1\" class=\"dataframe\">\n",
       "  <thead>\n",
       "    <tr style=\"text-align: right;\">\n",
       "      <th></th>\n",
       "      <th>fixed acidity</th>\n",
       "      <th>volatile acidity</th>\n",
       "      <th>citric acid</th>\n",
       "      <th>residual sugar</th>\n",
       "      <th>chlorides</th>\n",
       "      <th>free sulfur dioxide</th>\n",
       "      <th>total sulfur dioxide</th>\n",
       "      <th>density</th>\n",
       "      <th>pH</th>\n",
       "      <th>sulphates</th>\n",
       "      <th>alcohol</th>\n",
       "      <th>quality (Target)</th>\n",
       "    </tr>\n",
       "  </thead>\n",
       "  <tbody>\n",
       "    <tr>\n",
       "      <td>0</td>\n",
       "      <td>6.5</td>\n",
       "      <td>0.90</td>\n",
       "      <td>0.00</td>\n",
       "      <td>1.6</td>\n",
       "      <td>0.052</td>\n",
       "      <td>9.0</td>\n",
       "      <td>17.0</td>\n",
       "      <td>0.99467</td>\n",
       "      <td>3.50</td>\n",
       "      <td>0.63</td>\n",
       "      <td>10.9</td>\n",
       "      <td>6</td>\n",
       "    </tr>\n",
       "    <tr>\n",
       "      <td>1</td>\n",
       "      <td>9.1</td>\n",
       "      <td>0.22</td>\n",
       "      <td>0.24</td>\n",
       "      <td>2.1</td>\n",
       "      <td>0.078</td>\n",
       "      <td>1.0</td>\n",
       "      <td>28.0</td>\n",
       "      <td>0.99900</td>\n",
       "      <td>3.41</td>\n",
       "      <td>0.87</td>\n",
       "      <td>10.3</td>\n",
       "      <td>6</td>\n",
       "    </tr>\n",
       "    <tr>\n",
       "      <td>2</td>\n",
       "      <td>6.9</td>\n",
       "      <td>0.52</td>\n",
       "      <td>0.25</td>\n",
       "      <td>2.6</td>\n",
       "      <td>0.081</td>\n",
       "      <td>10.0</td>\n",
       "      <td>37.0</td>\n",
       "      <td>0.99685</td>\n",
       "      <td>3.46</td>\n",
       "      <td>0.50</td>\n",
       "      <td>11.0</td>\n",
       "      <td>5</td>\n",
       "    </tr>\n",
       "    <tr>\n",
       "      <td>3</td>\n",
       "      <td>7.3</td>\n",
       "      <td>0.59</td>\n",
       "      <td>0.26</td>\n",
       "      <td>2.0</td>\n",
       "      <td>0.080</td>\n",
       "      <td>17.0</td>\n",
       "      <td>104.0</td>\n",
       "      <td>0.99584</td>\n",
       "      <td>3.28</td>\n",
       "      <td>0.52</td>\n",
       "      <td>9.9</td>\n",
       "      <td>5</td>\n",
       "    </tr>\n",
       "    <tr>\n",
       "      <td>4</td>\n",
       "      <td>12.5</td>\n",
       "      <td>0.28</td>\n",
       "      <td>0.54</td>\n",
       "      <td>2.3</td>\n",
       "      <td>0.082</td>\n",
       "      <td>12.0</td>\n",
       "      <td>29.0</td>\n",
       "      <td>0.99970</td>\n",
       "      <td>3.11</td>\n",
       "      <td>1.36</td>\n",
       "      <td>9.8</td>\n",
       "      <td>7</td>\n",
       "    </tr>\n",
       "  </tbody>\n",
       "</table>\n",
       "</div>"
      ],
      "text/plain": [
       "   fixed acidity  volatile acidity  citric acid  residual sugar  chlorides  \\\n",
       "0            6.5              0.90         0.00             1.6      0.052   \n",
       "1            9.1              0.22         0.24             2.1      0.078   \n",
       "2            6.9              0.52         0.25             2.6      0.081   \n",
       "3            7.3              0.59         0.26             2.0      0.080   \n",
       "4           12.5              0.28         0.54             2.3      0.082   \n",
       "\n",
       "   free sulfur dioxide  total sulfur dioxide  density    pH  sulphates  \\\n",
       "0                  9.0                  17.0  0.99467  3.50       0.63   \n",
       "1                  1.0                  28.0  0.99900  3.41       0.87   \n",
       "2                 10.0                  37.0  0.99685  3.46       0.50   \n",
       "3                 17.0                 104.0  0.99584  3.28       0.52   \n",
       "4                 12.0                  29.0  0.99970  3.11       1.36   \n",
       "\n",
       "   alcohol  quality (Target)  \n",
       "0     10.9                 6  \n",
       "1     10.3                 6  \n",
       "2     11.0                 5  \n",
       "3      9.9                 5  \n",
       "4      9.8                 7  "
      ]
     },
     "execution_count": 72,
     "metadata": {},
     "output_type": "execute_result"
    }
   ],
   "source": [
    "data.head()"
   ]
  },
  {
   "cell_type": "code",
   "execution_count": 73,
   "metadata": {},
   "outputs": [
    {
     "name": "stdout",
     "output_type": "stream",
     "text": [
      "<class 'pandas.core.frame.DataFrame'>\n",
      "RangeIndex: 1599 entries, 0 to 1598\n",
      "Data columns (total 12 columns):\n",
      "fixed acidity           1599 non-null float64\n",
      "volatile acidity        1599 non-null float64\n",
      "citric acid             1599 non-null float64\n",
      "residual sugar          1599 non-null float64\n",
      "chlorides               1599 non-null float64\n",
      "free sulfur dioxide     1599 non-null float64\n",
      "total sulfur dioxide    1599 non-null float64\n",
      "density                 1599 non-null float64\n",
      "pH                      1599 non-null float64\n",
      "sulphates               1599 non-null float64\n",
      "alcohol                 1599 non-null float64\n",
      "quality (Target)        1599 non-null int64\n",
      "dtypes: float64(11), int64(1)\n",
      "memory usage: 150.0 KB\n"
     ]
    }
   ],
   "source": [
    "data.info()"
   ]
  },
  {
   "cell_type": "code",
   "execution_count": 74,
   "metadata": {},
   "outputs": [
    {
     "data": {
      "text/html": [
       "<div>\n",
       "<style scoped>\n",
       "    .dataframe tbody tr th:only-of-type {\n",
       "        vertical-align: middle;\n",
       "    }\n",
       "\n",
       "    .dataframe tbody tr th {\n",
       "        vertical-align: top;\n",
       "    }\n",
       "\n",
       "    .dataframe thead th {\n",
       "        text-align: right;\n",
       "    }\n",
       "</style>\n",
       "<table border=\"1\" class=\"dataframe\">\n",
       "  <thead>\n",
       "    <tr style=\"text-align: right;\">\n",
       "      <th></th>\n",
       "      <th>fixed acidity</th>\n",
       "      <th>volatile acidity</th>\n",
       "      <th>citric acid</th>\n",
       "      <th>residual sugar</th>\n",
       "      <th>chlorides</th>\n",
       "      <th>free sulfur dioxide</th>\n",
       "      <th>total sulfur dioxide</th>\n",
       "      <th>density</th>\n",
       "      <th>pH</th>\n",
       "      <th>sulphates</th>\n",
       "      <th>alcohol</th>\n",
       "      <th>quality (Target)</th>\n",
       "    </tr>\n",
       "  </thead>\n",
       "  <tbody>\n",
       "    <tr>\n",
       "      <td>count</td>\n",
       "      <td>1599.000000</td>\n",
       "      <td>1599.000000</td>\n",
       "      <td>1599.000000</td>\n",
       "      <td>1599.000000</td>\n",
       "      <td>1599.000000</td>\n",
       "      <td>1599.000000</td>\n",
       "      <td>1599.000000</td>\n",
       "      <td>1599.000000</td>\n",
       "      <td>1599.000000</td>\n",
       "      <td>1599.000000</td>\n",
       "      <td>1599.000000</td>\n",
       "      <td>1599.000000</td>\n",
       "    </tr>\n",
       "    <tr>\n",
       "      <td>mean</td>\n",
       "      <td>8.319637</td>\n",
       "      <td>0.527821</td>\n",
       "      <td>0.270976</td>\n",
       "      <td>2.538806</td>\n",
       "      <td>0.087467</td>\n",
       "      <td>15.874922</td>\n",
       "      <td>46.467792</td>\n",
       "      <td>0.996747</td>\n",
       "      <td>3.311113</td>\n",
       "      <td>0.658149</td>\n",
       "      <td>10.422983</td>\n",
       "      <td>5.636023</td>\n",
       "    </tr>\n",
       "    <tr>\n",
       "      <td>std</td>\n",
       "      <td>1.741096</td>\n",
       "      <td>0.179060</td>\n",
       "      <td>0.194801</td>\n",
       "      <td>1.409928</td>\n",
       "      <td>0.047065</td>\n",
       "      <td>10.460157</td>\n",
       "      <td>32.895324</td>\n",
       "      <td>0.001887</td>\n",
       "      <td>0.154386</td>\n",
       "      <td>0.169507</td>\n",
       "      <td>1.065668</td>\n",
       "      <td>0.807569</td>\n",
       "    </tr>\n",
       "    <tr>\n",
       "      <td>min</td>\n",
       "      <td>4.600000</td>\n",
       "      <td>0.120000</td>\n",
       "      <td>0.000000</td>\n",
       "      <td>0.900000</td>\n",
       "      <td>0.012000</td>\n",
       "      <td>1.000000</td>\n",
       "      <td>6.000000</td>\n",
       "      <td>0.990070</td>\n",
       "      <td>2.740000</td>\n",
       "      <td>0.330000</td>\n",
       "      <td>8.400000</td>\n",
       "      <td>3.000000</td>\n",
       "    </tr>\n",
       "    <tr>\n",
       "      <td>25%</td>\n",
       "      <td>7.100000</td>\n",
       "      <td>0.390000</td>\n",
       "      <td>0.090000</td>\n",
       "      <td>1.900000</td>\n",
       "      <td>0.070000</td>\n",
       "      <td>7.000000</td>\n",
       "      <td>22.000000</td>\n",
       "      <td>0.995600</td>\n",
       "      <td>3.210000</td>\n",
       "      <td>0.550000</td>\n",
       "      <td>9.500000</td>\n",
       "      <td>5.000000</td>\n",
       "    </tr>\n",
       "    <tr>\n",
       "      <td>50%</td>\n",
       "      <td>7.900000</td>\n",
       "      <td>0.520000</td>\n",
       "      <td>0.260000</td>\n",
       "      <td>2.200000</td>\n",
       "      <td>0.079000</td>\n",
       "      <td>14.000000</td>\n",
       "      <td>38.000000</td>\n",
       "      <td>0.996750</td>\n",
       "      <td>3.310000</td>\n",
       "      <td>0.620000</td>\n",
       "      <td>10.200000</td>\n",
       "      <td>6.000000</td>\n",
       "    </tr>\n",
       "    <tr>\n",
       "      <td>75%</td>\n",
       "      <td>9.200000</td>\n",
       "      <td>0.640000</td>\n",
       "      <td>0.420000</td>\n",
       "      <td>2.600000</td>\n",
       "      <td>0.090000</td>\n",
       "      <td>21.000000</td>\n",
       "      <td>62.000000</td>\n",
       "      <td>0.997835</td>\n",
       "      <td>3.400000</td>\n",
       "      <td>0.730000</td>\n",
       "      <td>11.100000</td>\n",
       "      <td>6.000000</td>\n",
       "    </tr>\n",
       "    <tr>\n",
       "      <td>max</td>\n",
       "      <td>15.900000</td>\n",
       "      <td>1.580000</td>\n",
       "      <td>1.000000</td>\n",
       "      <td>15.500000</td>\n",
       "      <td>0.611000</td>\n",
       "      <td>72.000000</td>\n",
       "      <td>289.000000</td>\n",
       "      <td>1.003690</td>\n",
       "      <td>4.010000</td>\n",
       "      <td>2.000000</td>\n",
       "      <td>14.900000</td>\n",
       "      <td>8.000000</td>\n",
       "    </tr>\n",
       "  </tbody>\n",
       "</table>\n",
       "</div>"
      ],
      "text/plain": [
       "       fixed acidity  volatile acidity  citric acid  residual sugar  \\\n",
       "count    1599.000000       1599.000000  1599.000000     1599.000000   \n",
       "mean        8.319637          0.527821     0.270976        2.538806   \n",
       "std         1.741096          0.179060     0.194801        1.409928   \n",
       "min         4.600000          0.120000     0.000000        0.900000   \n",
       "25%         7.100000          0.390000     0.090000        1.900000   \n",
       "50%         7.900000          0.520000     0.260000        2.200000   \n",
       "75%         9.200000          0.640000     0.420000        2.600000   \n",
       "max        15.900000          1.580000     1.000000       15.500000   \n",
       "\n",
       "         chlorides  free sulfur dioxide  total sulfur dioxide      density  \\\n",
       "count  1599.000000          1599.000000           1599.000000  1599.000000   \n",
       "mean      0.087467            15.874922             46.467792     0.996747   \n",
       "std       0.047065            10.460157             32.895324     0.001887   \n",
       "min       0.012000             1.000000              6.000000     0.990070   \n",
       "25%       0.070000             7.000000             22.000000     0.995600   \n",
       "50%       0.079000            14.000000             38.000000     0.996750   \n",
       "75%       0.090000            21.000000             62.000000     0.997835   \n",
       "max       0.611000            72.000000            289.000000     1.003690   \n",
       "\n",
       "                pH    sulphates      alcohol  quality (Target)  \n",
       "count  1599.000000  1599.000000  1599.000000       1599.000000  \n",
       "mean      3.311113     0.658149    10.422983          5.636023  \n",
       "std       0.154386     0.169507     1.065668          0.807569  \n",
       "min       2.740000     0.330000     8.400000          3.000000  \n",
       "25%       3.210000     0.550000     9.500000          5.000000  \n",
       "50%       3.310000     0.620000    10.200000          6.000000  \n",
       "75%       3.400000     0.730000    11.100000          6.000000  \n",
       "max       4.010000     2.000000    14.900000          8.000000  "
      ]
     },
     "execution_count": 74,
     "metadata": {},
     "output_type": "execute_result"
    }
   ],
   "source": [
    "data.describe()"
   ]
  },
  {
   "cell_type": "code",
   "execution_count": 75,
   "metadata": {},
   "outputs": [
    {
     "data": {
      "text/plain": [
       "fixed acidity           0\n",
       "volatile acidity        0\n",
       "citric acid             0\n",
       "residual sugar          0\n",
       "chlorides               0\n",
       "free sulfur dioxide     0\n",
       "total sulfur dioxide    0\n",
       "density                 0\n",
       "pH                      0\n",
       "sulphates               0\n",
       "alcohol                 0\n",
       "quality (Target)        0\n",
       "dtype: int64"
      ]
     },
     "execution_count": 75,
     "metadata": {},
     "output_type": "execute_result"
    }
   ],
   "source": [
    "data.isnull().sum()"
   ]
  },
  {
   "cell_type": "code",
   "execution_count": 76,
   "metadata": {},
   "outputs": [
    {
     "data": {
      "text/plain": [
       "array([6, 5, 7, 3, 4, 8], dtype=int64)"
      ]
     },
     "execution_count": 76,
     "metadata": {},
     "output_type": "execute_result"
    }
   ],
   "source": [
    "data['quality (Target)'].unique()\n"
   ]
  },
  {
   "cell_type": "code",
   "execution_count": 77,
   "metadata": {},
   "outputs": [
    {
     "data": {
      "text/plain": [
       "array([ 6.5,  9.1,  6.9,  7.3, 12.5,  5.4, 10.4,  7.9,  9.5,  6.8,  8.2,\n",
       "        6.1,  7.1, 10. , 11.5, 12. ,  7.7,  7.6,  7.2,  7. ,  9.3,  6.2,\n",
       "        8.9,  5.3,  8.8,  8.3,  8.7,  7.5,  7.4,  8. ,  6.4, 11.3, 15.5,\n",
       "        8.4, 10.8,  6. ,  6.3, 12.3, 12.8, 10.9,  8.6,  9.2, 11.1, 11.6,\n",
       "        9. ,  9.8, 10.5, 11. ,  9.4, 10.1, 11.2,  9.6,  8.1,  6.6, 13. ,\n",
       "        6.7,  8.5, 11.9, 13.2,  9.9, 10.7,  7.8, 11.4,  4.9, 13.5,  5.9,\n",
       "       10.6, 11.7,  5.2, 12.4, 12.7, 10.2, 11.8, 10.3,  5.6, 12.6, 13.3,\n",
       "       13.4,  5.8, 12.2,  5. , 15. , 14.3,  9.7,  4.7,  5.1,  5.7, 12.1,\n",
       "       13.7, 13.8, 15.9,  4.6, 12.9, 15.6,  5.5, 14. ])"
      ]
     },
     "execution_count": 77,
     "metadata": {},
     "output_type": "execute_result"
    }
   ],
   "source": [
    "data['fixed acidity'].unique()     #continous,non categorical"
   ]
  },
  {
   "cell_type": "code",
   "execution_count": 78,
   "metadata": {},
   "outputs": [
    {
     "data": {
      "text/plain": [
       "array([0.9  , 0.22 , 0.52 , 0.59 , 0.28 , 0.74 , 0.4  , 0.39 , 0.37 ,\n",
       "       0.69 , 0.34 , 0.45 , 0.43 , 0.31 , 0.51 , 0.35 , 0.58 , 1.58 ,\n",
       "       0.3  , 0.62 , 0.55 , 0.47 , 0.655, 0.42 , 0.6  , 0.66 , 0.765,\n",
       "       0.27 , 0.29 , 0.44 , 0.57 , 0.64 , 0.645, 0.77 , 0.5  , 0.73 ,\n",
       "       0.635, 0.785, 0.615, 0.21 , 0.365, 0.49 , 0.685, 0.54 , 0.56 ,\n",
       "       0.745, 0.61 , 0.53 , 0.32 , 0.36 , 0.885, 0.81 , 0.79 , 0.46 ,\n",
       "       0.48 , 0.24 , 0.84 , 0.705, 0.67 , 1.18 , 0.605, 0.63 , 0.715,\n",
       "       0.41 , 0.38 , 0.82 , 0.8  , 0.89 , 0.76 , 0.725, 0.585, 0.68 ,\n",
       "       0.75 , 0.26 , 0.71 , 0.735, 0.33 , 0.25 , 1.02 , 0.805, 0.795,\n",
       "       0.16 , 0.72 , 0.91 , 0.78 , 0.23 , 0.7  , 0.65 , 0.83 , 0.545,\n",
       "       1.   , 0.965, 0.395, 0.315, 0.855, 0.19 , 0.915, 1.24 , 0.625,\n",
       "       0.675, 0.18 , 0.755, 0.2  , 0.86 , 0.775, 1.04 , 0.695, 1.33 ,\n",
       "       0.88 , 0.835, 0.975, 0.96 , 0.98 , 1.035, 1.13 , 1.185, 0.415,\n",
       "       0.815, 0.85 , 0.475, 1.07 , 1.09 , 0.875, 0.87 , 0.935, 0.12 ,\n",
       "       0.305, 0.575, 1.025, 1.005, 0.565, 0.295, 0.665, 0.825, 0.955,\n",
       "       0.865, 0.95 , 0.845, 0.92 , 0.895, 1.01 , 0.595, 1.115])"
      ]
     },
     "execution_count": 78,
     "metadata": {},
     "output_type": "execute_result"
    }
   ],
   "source": [
    "data['volatile acidity'].unique()"
   ]
  },
  {
   "cell_type": "code",
   "execution_count": 140,
   "metadata": {},
   "outputs": [
    {
     "data": {
      "text/plain": [
       "array([0.01 , 0.24 , 0.25 , 0.26 , 0.522, 0.09 , 0.3  , 0.31 , 0.52 ,\n",
       "       0.11 , 0.17 , 0.47 , 0.18 , 0.49 , 0.33 , 0.1  , 0.34 , 0.13 ,\n",
       "       0.08 , 0.5  , 0.21 , 0.23 , 0.15 , 0.22 , 0.38 , 0.2  , 0.14 ,\n",
       "       0.32 , 0.12 , 0.43 , 0.02 , 0.16 , 0.19 , 0.28 , 0.04 , 0.39 ,\n",
       "       0.4  , 0.51 , 0.27 , 0.05 , 0.45 , 0.44 , 0.03 , 0.42 , 0.41 ,\n",
       "       0.48 , 0.46 , 0.06 , 0.36 , 0.35 , 0.07 , 0.37 , 0.29 ])"
      ]
     },
     "execution_count": 140,
     "metadata": {},
     "output_type": "execute_result"
    }
   ],
   "source": [
    "data['citric acid'].unique()"
   ]
  },
  {
   "cell_type": "code",
   "execution_count": 141,
   "metadata": {},
   "outputs": [
    {
     "data": {
      "text/plain": [
       "array([1.7 , 2.1 , 2.6 , 2.  , 2.3 , 1.7 , 2.7 , 1.8 , 2.4 , 3.6 , 3.  ,\n",
       "       1.9 , 2.2 , 2.5 , 3.5 , 3.1 , 2.8 , 3.2 , 2.9 , 1.75, 3.4 , 3.3 ,\n",
       "       2.05, 2.15, 2.25, 3.45, 2.85, 2.35, 2.95, 2.65, 2.55])"
      ]
     },
     "execution_count": 141,
     "metadata": {},
     "output_type": "execute_result"
    }
   ],
   "source": [
    "data['residual sugar'].unique()"
   ]
  },
  {
   "cell_type": "code",
   "execution_count": 143,
   "metadata": {},
   "outputs": [
    {
     "data": {
      "text/plain": [
       "array([0.06 , 0.078, 0.081, 0.08 , 0.082, 0.089, 0.105, 0.109, 0.074,\n",
       "       0.088, 0.104, 0.084, 0.085, 0.07 , 0.087, 0.076, 0.102, 0.064,\n",
       "       0.065, 0.075, 0.071, 0.067, 0.096, 0.092, 0.072, 0.079, 0.062,\n",
       "       0.077, 0.09 , 0.095, 0.073, 0.094, 0.083, 0.097, 0.098, 0.061,\n",
       "       0.093, 0.069, 0.108, 0.068, 0.066, 0.086, 0.091, 0.107, 0.099,\n",
       "       0.1  , 0.063, 0.106, 0.101, 0.103])"
      ]
     },
     "execution_count": 143,
     "metadata": {},
     "output_type": "execute_result"
    }
   ],
   "source": [
    "data['chlorides'].unique()"
   ]
  },
  {
   "cell_type": "code",
   "execution_count": 145,
   "metadata": {},
   "outputs": [
    {
     "data": {
      "text/plain": [
       "array([ 9. ,  5. , 10. , 17. , 12. , 16. , 21. ,  6. , 27. , 14. , 13. ,\n",
       "       11. , 28. ,  8. , 15. , 31. ,  7. , 20. , 24. , 18. , 25. , 19. ,\n",
       "       23. , 26. ,  5.5, 22. , 30. , 29. ])"
      ]
     },
     "execution_count": 145,
     "metadata": {},
     "output_type": "execute_result"
    }
   ],
   "source": [
    "data['free sulfur dioxide'].unique()"
   ]
  },
  {
   "cell_type": "code",
   "execution_count": 146,
   "metadata": {},
   "outputs": [
    {
     "data": {
      "text/plain": [
       "array([17. , 28. , 37. , 93.2, 29. , 26. , 19. , 45. , 46. , 51. , 58. ,\n",
       "       22. , 14. , 33. , 49. , 21. , 47. , 25. , 35. , 32. , 81. , 89. ,\n",
       "       88. , 38. , 31. , 42. , 30. , 64. , 73. , 23. , 74. , 66. , 60. ,\n",
       "       84. , 63. , 90. , 59. , 56. , 67. , 44. , 24. , 48. , 27. , 34. ,\n",
       "       20. , 18. , 54. , 43. , 15. , 50. , 65. , 16. , 41. , 83. , 36. ,\n",
       "       61. , 40. , 55. , 39. , 52. , 77. , 53. , 70. , 71. , 85. , 69. ,\n",
       "       62. , 57. , 80. , 68. , 82. , 92. , 79. , 72. , 93. , 75. , 78. ,\n",
       "       76. , 91. , 86. , 87. , 77.5])"
      ]
     },
     "execution_count": 146,
     "metadata": {},
     "output_type": "execute_result"
    }
   ],
   "source": [
    "data['total sulfur dioxide'].unique()"
   ]
  },
  {
   "cell_type": "code",
   "execution_count": 147,
   "metadata": {},
   "outputs": [
    {
     "data": {
      "text/plain": [
       "array([0.99467 , 0.999   , 0.99685 , 0.99584 , 0.99914 , 0.994556,\n",
       "       0.9988  , 0.99727 , 0.9962  , 0.99613 , 0.99828 , 0.99464 ,\n",
       "       0.99634 , 0.99768 , 0.9976  , 0.99599 , 0.99565 , 0.99476 ,\n",
       "       0.99516 , 0.9959  , 0.9978  , 0.99646 , 0.9964  , 0.99517 ,\n",
       "       0.99738 , 0.99823 , 0.99616 , 0.99484 , 0.99609 , 0.99514 ,\n",
       "       0.9963  , 0.9951  , 0.9968  , 0.9972  , 0.99669 , 0.9956  ,\n",
       "       0.99734 , 0.99553 , 0.99656 , 0.99504 , 0.9982  , 0.9955  ,\n",
       "       0.99638 , 0.99713 , 0.9966  , 0.99576 , 0.99686 , 0.9986  ,\n",
       "       0.9965  , 0.9969  , 0.99572 , 0.9984  , 0.9989  , 0.99494 ,\n",
       "       0.99612 , 0.99522 , 0.99667 , 0.99562 , 0.99588 , 0.998   ,\n",
       "       0.9947  , 0.99728 , 0.99815 , 0.9974  , 0.99633 , 0.9991  ,\n",
       "       0.99842 , 0.99508 , 0.99532 , 0.99712 , 0.99688 , 0.99642 ,\n",
       "       0.99865 , 0.9953  , 0.99534 , 0.996   , 0.9952  , 0.99587 ,\n",
       "       0.99615 , 0.99541 , 0.99786 , 0.99655 , 0.99692 , 0.99648 ,\n",
       "       0.99458 , 0.9967  , 0.99566 , 0.99551 , 0.99717 , 0.99697 ,\n",
       "       0.99524 , 0.99622 , 0.99722 , 0.99824 , 0.99643 , 0.99473 ,\n",
       "       0.99682 , 0.99664 , 0.99652 , 0.99488 , 0.99459 , 0.9958  ,\n",
       "       0.99568 , 0.9948  , 0.997   , 0.99528 , 0.9975  , 0.995   ,\n",
       "       0.99747 , 0.99525 , 0.99855 , 0.99761 , 0.99625 , 0.99639 ,\n",
       "       0.99665 , 0.99478 , 0.9981  , 0.99575 , 0.9979  , 0.9971  ,\n",
       "       0.99706 , 0.99627 , 0.9977  , 0.99585 , 0.9957  , 0.99693 ,\n",
       "       0.99564 , 0.99557 , 0.99545 , 0.9973  , 0.99603 , 0.99719 ,\n",
       "       0.99684 , 0.99472 , 0.99596 , 0.99586 , 0.99502 , 0.99732 ,\n",
       "       0.99538 , 0.99704 , 0.99492 , 0.99774 , 0.99675 , 0.99695 ,\n",
       "       0.99512 , 0.99636 , 0.99617 , 0.9983  , 0.99547 , 0.99498 ,\n",
       "       0.99726 , 0.9961  , 0.99624 , 0.99689 , 0.99694 , 0.9954  ,\n",
       "       0.9946  , 0.99798 , 0.99733 , 0.99769 , 0.9987  , 0.99632 ,\n",
       "       0.99708 , 0.99735 , 0.99845 , 0.99536 , 0.99817 , 0.99745 ,\n",
       "       0.99746 , 0.99677 , 0.99803 , 0.99668 , 0.99822 , 0.99683 ,\n",
       "       0.9985  , 0.99647 , 0.99791 , 0.99462 , 0.99574 , 0.99598 ,\n",
       "       0.99834 , 0.99614 , 0.99788 , 0.99718 , 0.99659 , 0.99479 ,\n",
       "       0.99729 , 0.99546 , 0.99892 , 0.99519 , 0.99674 , 0.99702 ,\n",
       "       0.99744 , 0.99854 , 0.99496 , 0.99489 , 0.99506 , 0.99554 ,\n",
       "       0.99518 , 0.99701 , 0.99814 , 0.99765 , 0.99699 , 0.99556 ,\n",
       "       0.99456 , 0.99666 , 0.99739 , 0.99592 , 0.99705 , 0.99526 ,\n",
       "       0.99635 , 0.99783 , 0.9949  , 0.99779 , 0.99621 , 0.99678 ,\n",
       "       0.99836 , 0.99878 , 0.99605 , 0.99471 , 0.99676 , 0.99787 ,\n",
       "       0.99604 , 0.99578 , 0.99619 , 0.99549 , 0.99495 , 0.99606 ,\n",
       "       0.99832 , 0.99756 , 0.99531 , 0.99623 , 0.99593 , 0.99672 ,\n",
       "       0.99736 , 0.99724 , 0.99864 , 0.99628 , 0.99772 , 0.99501 ,\n",
       "       0.99645 , 0.99784 , 0.99573 , 0.99748 , 0.99589 , 0.99577 ,\n",
       "       0.99474 , 0.99654 , 0.99552 , 0.99764 , 0.99801 , 0.99521 ,\n",
       "       0.99468 , 0.99608 , 0.99698 , 0.99752 , 0.99709 , 0.99509 ,\n",
       "       0.99581 , 0.99721 , 0.99714 , 0.99641 , 0.99542 , 0.99743 ,\n",
       "       0.99818 , 0.99558 , 0.99888 , 0.99725 , 0.99523 , 0.99543 ,\n",
       "       0.99754 , 0.99629 , 0.99486 , 0.99782 , 0.99491 , 0.99716 ,\n",
       "       0.99649 , 0.99852 , 0.99631 , 0.99533 , 0.99661 , 0.99901 ,\n",
       "       0.99758 , 0.99544 , 0.99582 , 0.99651 , 0.99529 , 0.99785 ,\n",
       "       0.99658 , 0.99859 , 0.99499 , 0.99594 , 0.99796 , 0.99808 ,\n",
       "       0.99555 , 0.99483 , 0.99569 ])"
      ]
     },
     "execution_count": 147,
     "metadata": {},
     "output_type": "execute_result"
    }
   ],
   "source": [
    "data['density'].unique()"
   ]
  },
  {
   "cell_type": "code",
   "execution_count": 148,
   "metadata": {},
   "outputs": [
    {
     "data": {
      "text/plain": [
       "array([3.5 , 3.41, 3.46, 3.28, 3.12, 3.51, 3.25, 3.31, 3.29, 3.39, 3.36,\n",
       "       3.3 , 3.49, 3.18, 3.27, 3.26, 3.32, 3.22, 3.4 , 3.19, 3.38, 3.35,\n",
       "       3.15, 3.17, 3.44, 3.34, 3.16, 3.2 , 3.21, 3.37, 3.48, 3.42, 3.24,\n",
       "       3.47, 3.45, 3.33, 3.14, 3.43, 3.23, 3.13])"
      ]
     },
     "execution_count": 148,
     "metadata": {},
     "output_type": "execute_result"
    }
   ],
   "source": [
    "data['pH'].unique()"
   ]
  },
  {
   "cell_type": "code",
   "execution_count": 149,
   "metadata": {},
   "outputs": [
    {
     "data": {
      "text/plain": [
       "array([0.63, 0.85, 0.5 , 0.52, 0.56, 0.54, 0.58, 0.72, 0.68, 0.65, 0.64,\n",
       "       0.8 , 0.73, 0.66, 0.81, 0.84, 0.51, 0.59, 0.55, 0.53, 0.61, 0.57,\n",
       "       0.74, 0.76, 0.75, 0.78, 0.6 , 0.82, 0.83, 0.7 , 0.71, 0.79, 0.67,\n",
       "       0.77, 0.62, 0.69])"
      ]
     },
     "execution_count": 149,
     "metadata": {},
     "output_type": "execute_result"
    }
   ],
   "source": [
    "data['sulphates'].unique()"
   ]
  },
  {
   "cell_type": "code",
   "execution_count": 150,
   "metadata": {},
   "outputs": [
    {
     "data": {
      "text/plain": [
       "array([10.9       , 10.3       , 11.        ,  9.9       ,  9.8       ,\n",
       "       11.6       ,  9.5       ,  9.4       , 11.1       , 10.2       ,\n",
       "       10.6       , 10.1       , 11.4       , 10.4       , 10.5       ,\n",
       "       11.7       , 11.8       ,  9.7       , 12.        ,  9.6       ,\n",
       "        9.3       , 11.2       , 10.8       ,  9.56666667, 10.        ,\n",
       "       11.5       , 10.7       , 11.9       ,  9.95      , 11.3       ,\n",
       "       10.55      , 11.95      , 11.06666667, 10.03333333,  9.55      ,\n",
       "       10.75      ])"
      ]
     },
     "execution_count": 150,
     "metadata": {},
     "output_type": "execute_result"
    }
   ],
   "source": [
    "data['alcohol'].unique()"
   ]
  },
  {
   "cell_type": "markdown",
   "metadata": {},
   "source": [
    "# EDA"
   ]
  },
  {
   "cell_type": "code",
   "execution_count": 79,
   "metadata": {},
   "outputs": [
    {
     "data": {
      "text/plain": [
       "(array([ 45., 229., 542., 371., 188., 110.,  76.,  26.,   5.,   7.]),\n",
       " array([ 4.6 ,  5.73,  6.86,  7.99,  9.12, 10.25, 11.38, 12.51, 13.64,\n",
       "        14.77, 15.9 ]),\n",
       " <a list of 10 Patch objects>)"
      ]
     },
     "execution_count": 79,
     "metadata": {},
     "output_type": "execute_result"
    },
    {
     "data": {
      "image/png": "[encoded data removed]",
      "text/plain": [
       "<Figure size 432x288 with 1 Axes>"
      ]
     },
     "metadata": {
      "needs_background": "light"
     },
     "output_type": "display_data"
    }
   ],
   "source": [
    "plt.hist(data['fixed acidity'])"
   ]
  },
  {
   "cell_type": "code",
   "execution_count": 80,
   "metadata": {},
   "outputs": [
    {
     "data": {
      "text/plain": [
       "(array([0., 0., 0., 0., 0., 1., 0., 0., 0., 0.]),\n",
       " array([-0.5, -0.4, -0.3, -0.2, -0.1,  0. ,  0.1,  0.2,  0.3,  0.4,  0.5]),\n",
       " <a list of 10 Patch objects>)"
      ]
     },
     "execution_count": 80,
     "metadata": {},
     "output_type": "execute_result"
    },
    {
     "data": {
      "image/png": "[encoded data removed]",
      "text/plain": [
       "<Figure size 432x288 with 1 Axes>"
      ]
     },
     "metadata": {
      "needs_background": "light"
     },
     "output_type": "display_data"
    }
   ],
   "source": [
    "plt.hist(['volatile acidity'],bins=10)"
   ]
  },
  {
   "cell_type": "code",
   "execution_count": 81,
   "metadata": {},
   "outputs": [
    {
     "data": {
      "text/plain": [
       "(array([0., 0., 0., 0., 0., 1., 0., 0., 0., 0.]),\n",
       " array([-0.5, -0.4, -0.3, -0.2, -0.1,  0. ,  0.1,  0.2,  0.3,  0.4,  0.5]),\n",
       " <a list of 10 Patch objects>)"
      ]
     },
     "execution_count": 81,
     "metadata": {},
     "output_type": "execute_result"
    },
    {
     "data": {
      "image/png": "[encoded data removed]",
      "text/plain": [
       "<Figure size 432x288 with 1 Axes>"
      ]
     },
     "metadata": {
      "needs_background": "light"
     },
     "output_type": "display_data"
    }
   ],
   "source": [
    "plt.hist(['citric acid '])"
   ]
  },
  {
   "cell_type": "code",
   "execution_count": 82,
   "metadata": {},
   "outputs": [
    {
     "data": {
      "text/plain": [
       "(array([0., 0., 0., 0., 0., 1., 0., 0., 0., 0.]),\n",
       " array([-0.5, -0.4, -0.3, -0.2, -0.1,  0. ,  0.1,  0.2,  0.3,  0.4,  0.5]),\n",
       " <a list of 10 Patch objects>)"
      ]
     },
     "execution_count": 82,
     "metadata": {},
     "output_type": "execute_result"
    },
    {
     "data": {
      "image/png": "[encoded data removed]",
      "text/plain": [
       "<Figure size 432x288 with 1 Axes>"
      ]
     },
     "metadata": {
      "needs_background": "light"
     },
     "output_type": "display_data"
    }
   ],
   "source": [
    "plt.hist(['residual sugar'])"
   ]
  },
  {
   "cell_type": "code",
   "execution_count": 83,
   "metadata": {},
   "outputs": [
    {
     "data": {
      "text/plain": [
       "(array([0., 0., 0., 0., 0., 1., 0., 0., 0., 0.]),\n",
       " array([-0.5, -0.4, -0.3, -0.2, -0.1,  0. ,  0.1,  0.2,  0.3,  0.4,  0.5]),\n",
       " <a list of 10 Patch objects>)"
      ]
     },
     "execution_count": 83,
     "metadata": {},
     "output_type": "execute_result"
    },
    {
     "data": {
      "image/png": "[encoded data removed]",
      "text/plain": [
       "<Figure size 432x288 with 1 Axes>"
      ]
     },
     "metadata": {
      "needs_background": "light"
     },
     "output_type": "display_data"
    }
   ],
   "source": [
    "plt.hist(['chlorides'])"
   ]
  },
  {
   "cell_type": "code",
   "execution_count": 84,
   "metadata": {},
   "outputs": [
    {
     "data": {
      "text/plain": [
       "(array([0., 0., 0., 0., 0., 1., 0., 0., 0., 0.]),\n",
       " array([-0.5, -0.4, -0.3, -0.2, -0.1,  0. ,  0.1,  0.2,  0.3,  0.4,  0.5]),\n",
       " <a list of 10 Patch objects>)"
      ]
     },
     "execution_count": 84,
     "metadata": {},
     "output_type": "execute_result"
    },
    {
     "data": {
      "image/png": "[encoded data removed]",
      "text/plain": [
       "<Figure size 432x288 with 1 Axes>"
      ]
     },
     "metadata": {
      "needs_background": "light"
     },
     "output_type": "display_data"
    }
   ],
   "source": [
    "plt.hist(['free sulfur dioxide'])"
   ]
  },
  {
   "cell_type": "code",
   "execution_count": 85,
   "metadata": {
    "scrolled": true
   },
   "outputs": [
    {
     "data": {
      "text/plain": [
       "(array([0., 0., 0., 0., 0., 1., 0., 0., 0., 0.]),\n",
       " array([-0.5, -0.4, -0.3, -0.2, -0.1,  0. ,  0.1,  0.2,  0.3,  0.4,  0.5]),\n",
       " <a list of 10 Patch objects>)"
      ]
     },
     "execution_count": 85,
     "metadata": {},
     "output_type": "execute_result"
    },
    {
     "data": {
      "image/png": "[encoded data removed]",
      "text/plain": [
       "<Figure size 432x288 with 1 Axes>"
      ]
     },
     "metadata": {
      "needs_background": "light"
     },
     "output_type": "display_data"
    }
   ],
   "source": [
    "plt.hist(['total sulfur dioxide '])"
   ]
  },
  {
   "cell_type": "code",
   "execution_count": 86,
   "metadata": {},
   "outputs": [
    {
     "data": {
      "text/plain": [
       "(array([0., 0., 0., 0., 0., 1., 0., 0., 0., 0.]),\n",
       " array([-0.5, -0.4, -0.3, -0.2, -0.1,  0. ,  0.1,  0.2,  0.3,  0.4,  0.5]),\n",
       " <a list of 10 Patch objects>)"
      ]
     },
     "execution_count": 86,
     "metadata": {},
     "output_type": "execute_result"
    },
    {
     "data": {
      "image/png": "[encoded data removed]",
      "text/plain": [
       "<Figure size 432x288 with 1 Axes>"
      ]
     },
     "metadata": {
      "needs_background": "light"
     },
     "output_type": "display_data"
    }
   ],
   "source": [
    "plt.hist(['density'])"
   ]
  },
  {
   "cell_type": "code",
   "execution_count": 87,
   "metadata": {},
   "outputs": [
    {
     "data": {
      "text/plain": [
       "(array([0., 0., 0., 0., 0., 1., 0., 0., 0., 0.]),\n",
       " array([-0.5, -0.4, -0.3, -0.2, -0.1,  0. ,  0.1,  0.2,  0.3,  0.4,  0.5]),\n",
       " <a list of 10 Patch objects>)"
      ]
     },
     "execution_count": 87,
     "metadata": {},
     "output_type": "execute_result"
    },
    {
     "data": {
      "image/png": "[encoded data removed]",
      "text/plain": [
       "<Figure size 432x288 with 1 Axes>"
      ]
     },
     "metadata": {
      "needs_background": "light"
     },
     "output_type": "display_data"
    }
   ],
   "source": [
    "plt.hist(['pH '])"
   ]
  },
  {
   "cell_type": "code",
   "execution_count": 88,
   "metadata": {},
   "outputs": [
    {
     "data": {
      "text/plain": [
       "(array([0., 0., 0., 0., 0., 1., 0., 0., 0., 0.]),\n",
       " array([-0.5, -0.4, -0.3, -0.2, -0.1,  0. ,  0.1,  0.2,  0.3,  0.4,  0.5]),\n",
       " <a list of 10 Patch objects>)"
      ]
     },
     "execution_count": 88,
     "metadata": {},
     "output_type": "execute_result"
    },
    {
     "data": {
      "image/png": "[encoded data removed]",
      "text/plain": [
       "<Figure size 432x288 with 1 Axes>"
      ]
     },
     "metadata": {
      "needs_background": "light"
     },
     "output_type": "display_data"
    }
   ],
   "source": [
    "plt.hist(['sulphates'])"
   ]
  },
  {
   "cell_type": "code",
   "execution_count": 89,
   "metadata": {},
   "outputs": [
    {
     "data": {
      "text/plain": [
       "(array([0., 0., 0., 0., 0., 1., 0., 0., 0., 0.]),\n",
       " array([-0.5, -0.4, -0.3, -0.2, -0.1,  0. ,  0.1,  0.2,  0.3,  0.4,  0.5]),\n",
       " <a list of 10 Patch objects>)"
      ]
     },
     "execution_count": 89,
     "metadata": {},
     "output_type": "execute_result"
    },
    {
     "data": {
      "image/png": "[encoded data removed]",
      "text/plain": [
       "<Figure size 432x288 with 1 Axes>"
      ]
     },
     "metadata": {
      "needs_background": "light"
     },
     "output_type": "display_data"
    }
   ],
   "source": [
    "plt.hist(['alcohol '])"
   ]
  },
  {
   "cell_type": "code",
   "execution_count": 90,
   "metadata": {},
   "outputs": [
    {
     "data": {
      "text/plain": [
       "(array([0., 0., 0., 0., 0., 1., 0., 0., 0., 0.]),\n",
       " array([-0.5, -0.4, -0.3, -0.2, -0.1,  0. ,  0.1,  0.2,  0.3,  0.4,  0.5]),\n",
       " <a list of 10 Patch objects>)"
      ]
     },
     "execution_count": 90,
     "metadata": {},
     "output_type": "execute_result"
    },
    {
     "data": {
      "image/png": "[encoded data removed]",
      "text/plain": [
       "<Figure size 432x288 with 1 Axes>"
      ]
     },
     "metadata": {
      "needs_background": "light"
     },
     "output_type": "display_data"
    }
   ],
   "source": [
    "plt.hist(['quality (Target)'])"
   ]
  },
  {
   "cell_type": "code",
   "execution_count": 91,
   "metadata": {},
   "outputs": [
    {
     "data": {
      "text/plain": [
       "{'whiskers': [<matplotlib.lines.Line2D at 0x12ee9ea15c0>,\n",
       "  <matplotlib.lines.Line2D at 0x12ee9ea1978>],\n",
       " 'caps': [<matplotlib.lines.Line2D at 0x12ee9ea1cc0>,\n",
       "  <matplotlib.lines.Line2D at 0x12ee9ea1da0>],\n",
       " 'boxes': [<matplotlib.lines.Line2D at 0x12ee9ea1208>],\n",
       " 'medians': [<matplotlib.lines.Line2D at 0x12ee9ea8390>],\n",
       " 'fliers': [<matplotlib.lines.Line2D at 0x12ee9ea86d8>],\n",
       " 'means': []}"
      ]
     },
     "execution_count": 91,
     "metadata": {},
     "output_type": "execute_result"
    },
    {
     "data": {
      "image/png": "[encoded data removed]",
      "text/plain": [
       "<Figure size 432x288 with 1 Axes>"
      ]
     },
     "metadata": {
      "needs_background": "light"
     },
     "output_type": "display_data"
    }
   ],
   "source": [
    "plt.boxplot(data['fixed acidity'])"
   ]
  },
  {
   "cell_type": "code",
   "execution_count": 92,
   "metadata": {},
   "outputs": [],
   "source": [
    "percentile=data['fixed acidity'].quantile([0.1,0.9]).values"
   ]
  },
  {
   "cell_type": "code",
   "execution_count": 93,
   "metadata": {},
   "outputs": [],
   "source": [
    "data['fixed acidity']=data['fixed acidity'].clip(percentile[0],percentile[1])"
   ]
  },
  {
   "cell_type": "code",
   "execution_count": 94,
   "metadata": {},
   "outputs": [
    {
     "data": {
      "text/plain": [
       "{'whiskers': [<matplotlib.lines.Line2D at 0x12ee9ef5ba8>,\n",
       "  <matplotlib.lines.Line2D at 0x12ee9ef5f60>],\n",
       " 'caps': [<matplotlib.lines.Line2D at 0x12ee9ef5ef0>,\n",
       "  <matplotlib.lines.Line2D at 0x12ee9f04630>],\n",
       " 'boxes': [<matplotlib.lines.Line2D at 0x12ee9ef57f0>],\n",
       " 'medians': [<matplotlib.lines.Line2D at 0x12ee9f04978>],\n",
       " 'fliers': [<matplotlib.lines.Line2D at 0x12ee9f04cc0>],\n",
       " 'means': []}"
      ]
     },
     "execution_count": 94,
     "metadata": {},
     "output_type": "execute_result"
    },
    {
     "data": {
      "image/png": "[encoded data removed]",
      "text/plain": [
       "<Figure size 432x288 with 1 Axes>"
      ]
     },
     "metadata": {
      "needs_background": "light"
     },
     "output_type": "display_data"
    }
   ],
   "source": [
    "plt.boxplot(data['fixed acidity'])"
   ]
  },
  {
   "cell_type": "code",
   "execution_count": 95,
   "metadata": {},
   "outputs": [
    {
     "data": {
      "text/plain": [
       "{'whiskers': [<matplotlib.lines.Line2D at 0x12ee9f56b70>,\n",
       "  <matplotlib.lines.Line2D at 0x12ee9f56ef0>],\n",
       " 'caps': [<matplotlib.lines.Line2D at 0x12ee9f56fd0>,\n",
       "  <matplotlib.lines.Line2D at 0x12ee9f615c0>],\n",
       " 'boxes': [<matplotlib.lines.Line2D at 0x12ee9f567b8>],\n",
       " 'medians': [<matplotlib.lines.Line2D at 0x12ee9f61908>],\n",
       " 'fliers': [<matplotlib.lines.Line2D at 0x12ee9f61c50>],\n",
       " 'means': []}"
      ]
     },
     "execution_count": 95,
     "metadata": {},
     "output_type": "execute_result"
    },
    {
     "data": {
      "image/png": "[encoded data removed]",
      "text/plain": [
       "<Figure size 432x288 with 1 Axes>"
      ]
     },
     "metadata": {
      "needs_background": "light"
     },
     "output_type": "display_data"
    }
   ],
   "source": [
    "plt.boxplot(data['volatile acidity'])"
   ]
  },
  {
   "cell_type": "code",
   "execution_count": 96,
   "metadata": {},
   "outputs": [],
   "source": [
    "percentile=data['volatile acidity'].quantile([0.1,0.9]).values"
   ]
  },
  {
   "cell_type": "code",
   "execution_count": 97,
   "metadata": {},
   "outputs": [],
   "source": [
    "data['volatile acidity']=data['volatile acidity'].clip(percentile[0],percentile[1])"
   ]
  },
  {
   "cell_type": "code",
   "execution_count": 98,
   "metadata": {},
   "outputs": [
    {
     "data": {
      "text/plain": [
       "{'whiskers': [<matplotlib.lines.Line2D at 0x12ee9fb8e48>,\n",
       "  <matplotlib.lines.Line2D at 0x12ee9fc74a8>],\n",
       " 'caps': [<matplotlib.lines.Line2D at 0x12ee9fc77f0>,\n",
       "  <matplotlib.lines.Line2D at 0x12ee9fc7b38>],\n",
       " 'boxes': [<matplotlib.lines.Line2D at 0x12ee9fb8cf8>],\n",
       " 'medians': [<matplotlib.lines.Line2D at 0x12ee9fc7e80>],\n",
       " 'fliers': [<matplotlib.lines.Line2D at 0x12ee9fc7f60>],\n",
       " 'means': []}"
      ]
     },
     "execution_count": 98,
     "metadata": {},
     "output_type": "execute_result"
    },
    {
     "data": {
      "image/png": "[encoded data removed]",
      "text/plain": [
       "<Figure size 432x288 with 1 Axes>"
      ]
     },
     "metadata": {
      "needs_background": "light"
     },
     "output_type": "display_data"
    }
   ],
   "source": [
    "plt.boxplot(data['volatile acidity'])"
   ]
  },
  {
   "cell_type": "code",
   "execution_count": 99,
   "metadata": {},
   "outputs": [
    {
     "data": {
      "text/plain": [
       "{'whiskers': [<matplotlib.lines.Line2D at 0x12eea023668>,\n",
       "  <matplotlib.lines.Line2D at 0x12eea023a20>],\n",
       " 'caps': [<matplotlib.lines.Line2D at 0x12eea023d68>,\n",
       "  <matplotlib.lines.Line2D at 0x12eea023e48>],\n",
       " 'boxes': [<matplotlib.lines.Line2D at 0x12eea0232b0>],\n",
       " 'medians': [<matplotlib.lines.Line2D at 0x12eea02d438>],\n",
       " 'fliers': [<matplotlib.lines.Line2D at 0x12eea02d780>],\n",
       " 'means': []}"
      ]
     },
     "execution_count": 99,
     "metadata": {},
     "output_type": "execute_result"
    },
    {
     "data": {
      "image/png": "[encoded data removed]",
      "text/plain": [
       "<Figure size 432x288 with 1 Axes>"
      ]
     },
     "metadata": {
      "needs_background": "light"
     },
     "output_type": "display_data"
    }
   ],
   "source": [
    "plt.boxplot(data['citric acid'])"
   ]
  },
  {
   "cell_type": "code",
   "execution_count": 100,
   "metadata": {},
   "outputs": [],
   "source": [
    "percentile=data['citric acid'].quantile([0.1,0.9]).values"
   ]
  },
  {
   "cell_type": "code",
   "execution_count": 101,
   "metadata": {},
   "outputs": [],
   "source": [
    "data['citric acid']=data['citric acid'].clip(percentile[0],percentile[1])"
   ]
  },
  {
   "cell_type": "code",
   "execution_count": 102,
   "metadata": {},
   "outputs": [
    {
     "data": {
      "text/plain": [
       "{'whiskers': [<matplotlib.lines.Line2D at 0x12eea07ce80>,\n",
       "  <matplotlib.lines.Line2D at 0x12eea08b4e0>],\n",
       " 'caps': [<matplotlib.lines.Line2D at 0x12eea08b828>,\n",
       "  <matplotlib.lines.Line2D at 0x12eea08bb70>],\n",
       " 'boxes': [<matplotlib.lines.Line2D at 0x12eea07cd30>],\n",
       " 'medians': [<matplotlib.lines.Line2D at 0x12eea08beb8>],\n",
       " 'fliers': [<matplotlib.lines.Line2D at 0x12eea08bf98>],\n",
       " 'means': []}"
      ]
     },
     "execution_count": 102,
     "metadata": {},
     "output_type": "execute_result"
    },
    {
     "data": {
      "image/png": "[encoded data removed]",
      "text/plain": [
       "<Figure size 432x288 with 1 Axes>"
      ]
     },
     "metadata": {
      "needs_background": "light"
     },
     "output_type": "display_data"
    }
   ],
   "source": [
    "plt.boxplot(data['citric acid'])"
   ]
  },
  {
   "cell_type": "code",
   "execution_count": 103,
   "metadata": {},
   "outputs": [
    {
     "data": {
      "text/plain": [
       "{'whiskers': [<matplotlib.lines.Line2D at 0x12eea0e3b70>,\n",
       "  <matplotlib.lines.Line2D at 0x12eea0e3f28>],\n",
       " 'caps': [<matplotlib.lines.Line2D at 0x12eea0e3eb8>,\n",
       "  <matplotlib.lines.Line2D at 0x12eea0ef5f8>],\n",
       " 'boxes': [<matplotlib.lines.Line2D at 0x12eea0e37b8>],\n",
       " 'medians': [<matplotlib.lines.Line2D at 0x12eea0ef940>],\n",
       " 'fliers': [<matplotlib.lines.Line2D at 0x12eea0efc88>],\n",
       " 'means': []}"
      ]
     },
     "execution_count": 103,
     "metadata": {},
     "output_type": "execute_result"
    },
    {
     "data": {
      "image/png": "[encoded data removed]",
      "text/plain": [
       "<Figure size 432x288 with 1 Axes>"
      ]
     },
     "metadata": {
      "needs_background": "light"
     },
     "output_type": "display_data"
    }
   ],
   "source": [
    "plt.boxplot(data['residual sugar'])"
   ]
  },
  {
   "cell_type": "code",
   "execution_count": 104,
   "metadata": {},
   "outputs": [],
   "source": [
    "percentile=data['residual sugar'].quantile([0.1,0.9]).values"
   ]
  },
  {
   "cell_type": "code",
   "execution_count": 105,
   "metadata": {},
   "outputs": [],
   "source": [
    "data['residual sugar']=data['residual sugar'].clip(percentile[0],percentile[1])"
   ]
  },
  {
   "cell_type": "code",
   "execution_count": 106,
   "metadata": {},
   "outputs": [
    {
     "data": {
      "text/plain": [
       "{'whiskers': [<matplotlib.lines.Line2D at 0x12eea146ef0>,\n",
       "  <matplotlib.lines.Line2D at 0x12eea146f60>],\n",
       " 'caps': [<matplotlib.lines.Line2D at 0x12eea154630>,\n",
       "  <matplotlib.lines.Line2D at 0x12eea154978>],\n",
       " 'boxes': [<matplotlib.lines.Line2D at 0x12eea146b38>],\n",
       " 'medians': [<matplotlib.lines.Line2D at 0x12eea154cc0>],\n",
       " 'fliers': [<matplotlib.lines.Line2D at 0x12eea154da0>],\n",
       " 'means': []}"
      ]
     },
     "execution_count": 106,
     "metadata": {},
     "output_type": "execute_result"
    },
    {
     "data": {
      "image/png": "[encoded data removed]",
      "text/plain": [
       "<Figure size 432x288 with 1 Axes>"
      ]
     },
     "metadata": {
      "needs_background": "light"
     },
     "output_type": "display_data"
    }
   ],
   "source": [
    "plt.boxplot(data['residual sugar'])"
   ]
  },
  {
   "cell_type": "code",
   "execution_count": 107,
   "metadata": {},
   "outputs": [
    {
     "data": {
      "text/plain": [
       "{'whiskers': [<matplotlib.lines.Line2D at 0x12eea1b94e0>,\n",
       "  <matplotlib.lines.Line2D at 0x12eea1b9898>],\n",
       " 'caps': [<matplotlib.lines.Line2D at 0x12eea1b9be0>,\n",
       "  <matplotlib.lines.Line2D at 0x12eea1b9f28>],\n",
       " 'boxes': [<matplotlib.lines.Line2D at 0x12eea1b9128>],\n",
       " 'medians': [<matplotlib.lines.Line2D at 0x12eea1b9eb8>],\n",
       " 'fliers': [<matplotlib.lines.Line2D at 0x12eea1c15f8>],\n",
       " 'means': []}"
      ]
     },
     "execution_count": 107,
     "metadata": {},
     "output_type": "execute_result"
    },
    {
     "data": {
      "image/png": "[encoded data removed]",
      "text/plain": [
       "<Figure size 432x288 with 1 Axes>"
      ]
     },
     "metadata": {
      "needs_background": "light"
     },
     "output_type": "display_data"
    }
   ],
   "source": [
    "plt.boxplot(data['chlorides'])"
   ]
  },
  {
   "cell_type": "code",
   "execution_count": 108,
   "metadata": {},
   "outputs": [],
   "source": [
    "percentile=data['chlorides'].quantile([0.1,0.9]).values\n"
   ]
  },
  {
   "cell_type": "code",
   "execution_count": 109,
   "metadata": {},
   "outputs": [],
   "source": [
    "data['chlorides']=data['chlorides'].clip(percentile[0],percentile[1])"
   ]
  },
  {
   "cell_type": "code",
   "execution_count": 110,
   "metadata": {},
   "outputs": [
    {
     "data": {
      "text/plain": [
       "{'whiskers': [<matplotlib.lines.Line2D at 0x12eea21e400>,\n",
       "  <matplotlib.lines.Line2D at 0x12eea21e7b8>],\n",
       " 'caps': [<matplotlib.lines.Line2D at 0x12eea21eb00>,\n",
       "  <matplotlib.lines.Line2D at 0x12eea21ee48>],\n",
       " 'boxes': [<matplotlib.lines.Line2D at 0x12eea21e048>],\n",
       " 'medians': [<matplotlib.lines.Line2D at 0x12eea21ef28>],\n",
       " 'fliers': [<matplotlib.lines.Line2D at 0x12eea229518>],\n",
       " 'means': []}"
      ]
     },
     "execution_count": 110,
     "metadata": {},
     "output_type": "execute_result"
    },
    {
     "data": {
      "image/png": "[encoded data removed]",
      "text/plain": [
       "<Figure size 432x288 with 1 Axes>"
      ]
     },
     "metadata": {
      "needs_background": "light"
     },
     "output_type": "display_data"
    }
   ],
   "source": [
    "plt.boxplot(data['chlorides'])"
   ]
  },
  {
   "cell_type": "code",
   "execution_count": 111,
   "metadata": {},
   "outputs": [
    {
     "data": {
      "text/plain": [
       "{'whiskers': [<matplotlib.lines.Line2D at 0x12eea275f60>,\n",
       "  <matplotlib.lines.Line2D at 0x12eea275fd0>],\n",
       " 'caps': [<matplotlib.lines.Line2D at 0x12eea283668>,\n",
       "  <matplotlib.lines.Line2D at 0x12eea2839b0>],\n",
       " 'boxes': [<matplotlib.lines.Line2D at 0x12eea275ba8>],\n",
       " 'medians': [<matplotlib.lines.Line2D at 0x12eea283cf8>],\n",
       " 'fliers': [<matplotlib.lines.Line2D at 0x12eea283dd8>],\n",
       " 'means': []}"
      ]
     },
     "execution_count": 111,
     "metadata": {},
     "output_type": "execute_result"
    },
    {
     "data": {
      "image/png": "[encoded data removed]",
      "text/plain": [
       "<Figure size 432x288 with 1 Axes>"
      ]
     },
     "metadata": {
      "needs_background": "light"
     },
     "output_type": "display_data"
    }
   ],
   "source": [
    "plt.boxplot(data['free sulfur dioxide'])"
   ]
  },
  {
   "cell_type": "code",
   "execution_count": 114,
   "metadata": {},
   "outputs": [],
   "source": [
    "percentile=data['free sulfur dioxide'].quantile([0.1,0.9]).values\n",
    "data['free sulfur dioxide']=data['free sulfur dioxide'].clip(percentile[0],percentile[1])\n"
   ]
  },
  {
   "cell_type": "code",
   "execution_count": 115,
   "metadata": {},
   "outputs": [
    {
     "data": {
      "text/plain": [
       "{'whiskers': [<matplotlib.lines.Line2D at 0x12eea34f860>,\n",
       "  <matplotlib.lines.Line2D at 0x12eea34fc18>],\n",
       " 'caps': [<matplotlib.lines.Line2D at 0x12eea34ff60>,\n",
       "  <matplotlib.lines.Line2D at 0x12eea34fef0>],\n",
       " 'boxes': [<matplotlib.lines.Line2D at 0x12eea34f4a8>],\n",
       " 'medians': [<matplotlib.lines.Line2D at 0x12eea35a630>],\n",
       " 'fliers': [<matplotlib.lines.Line2D at 0x12eea35a978>],\n",
       " 'means': []}"
      ]
     },
     "execution_count": 115,
     "metadata": {},
     "output_type": "execute_result"
    },
    {
     "data": {
      "image/png": "[encoded data removed]",
      "text/plain": [
       "<Figure size 432x288 with 1 Axes>"
      ]
     },
     "metadata": {
      "needs_background": "light"
     },
     "output_type": "display_data"
    }
   ],
   "source": [
    "plt.boxplot(data['free sulfur dioxide'])"
   ]
  },
  {
   "cell_type": "code",
   "execution_count": 116,
   "metadata": {},
   "outputs": [
    {
     "data": {
      "text/plain": [
       "{'whiskers': [<matplotlib.lines.Line2D at 0x12eea3b42e8>,\n",
       "  <matplotlib.lines.Line2D at 0x12eea3b46a0>],\n",
       " 'caps': [<matplotlib.lines.Line2D at 0x12eea3b49e8>,\n",
       "  <matplotlib.lines.Line2D at 0x12eea3b4d30>],\n",
       " 'boxes': [<matplotlib.lines.Line2D at 0x12eea3a5ef0>],\n",
       " 'medians': [<matplotlib.lines.Line2D at 0x12eea3b4e10>],\n",
       " 'fliers': [<matplotlib.lines.Line2D at 0x12eea3be400>],\n",
       " 'means': []}"
      ]
     },
     "execution_count": 116,
     "metadata": {},
     "output_type": "execute_result"
    },
    {
     "data": {
      "image/png": "[encoded data removed]",
      "text/plain": [
       "<Figure size 432x288 with 1 Axes>"
      ]
     },
     "metadata": {
      "needs_background": "light"
     },
     "output_type": "display_data"
    }
   ],
   "source": [
    "plt.boxplot(data['total sulfur dioxide'])"
   ]
  },
  {
   "cell_type": "code",
   "execution_count": 118,
   "metadata": {},
   "outputs": [],
   "source": [
    "percentile=data['total sulfur dioxide'].quantile([0.1,0.9]).values"
   ]
  },
  {
   "cell_type": "code",
   "execution_count": 119,
   "metadata": {},
   "outputs": [],
   "source": [
    "data['total sulfur dioxide']=data['total sulfur dioxide'].clip(percentile[0],percentile[1])"
   ]
  },
  {
   "cell_type": "code",
   "execution_count": 120,
   "metadata": {},
   "outputs": [
    {
     "data": {
      "text/plain": [
       "{'whiskers': [<matplotlib.lines.Line2D at 0x12eea42e358>,\n",
       "  <matplotlib.lines.Line2D at 0x12eea42e710>],\n",
       " 'caps': [<matplotlib.lines.Line2D at 0x12eea42ea58>,\n",
       "  <matplotlib.lines.Line2D at 0x12eea42eda0>],\n",
       " 'boxes': [<matplotlib.lines.Line2D at 0x12eea421f60>],\n",
       " 'medians': [<matplotlib.lines.Line2D at 0x12eea42ee80>],\n",
       " 'fliers': [<matplotlib.lines.Line2D at 0x12eea438470>],\n",
       " 'means': []}"
      ]
     },
     "execution_count": 120,
     "metadata": {},
     "output_type": "execute_result"
    },
    {
     "data": {
      "image/png": "[encoded data removed]",
      "text/plain": [
       "<Figure size 432x288 with 1 Axes>"
      ]
     },
     "metadata": {
      "needs_background": "light"
     },
     "output_type": "display_data"
    }
   ],
   "source": [
    "plt.boxplot(data['total sulfur dioxide'])"
   ]
  },
  {
   "cell_type": "code",
   "execution_count": 121,
   "metadata": {},
   "outputs": [
    {
     "data": {
      "text/plain": [
       "{'whiskers': [<matplotlib.lines.Line2D at 0x12eea48a908>,\n",
       "  <matplotlib.lines.Line2D at 0x12eea48acc0>],\n",
       " 'caps': [<matplotlib.lines.Line2D at 0x12eea48ada0>,\n",
       "  <matplotlib.lines.Line2D at 0x12eea497390>],\n",
       " 'boxes': [<matplotlib.lines.Line2D at 0x12eea48a550>],\n",
       " 'medians': [<matplotlib.lines.Line2D at 0x12eea4976d8>],\n",
       " 'fliers': [<matplotlib.lines.Line2D at 0x12eea497a20>],\n",
       " 'means': []}"
      ]
     },
     "execution_count": 121,
     "metadata": {},
     "output_type": "execute_result"
    },
    {
     "data": {
      "image/png": "[encoded data removed]",
      "text/plain": [
       "<Figure size 432x288 with 1 Axes>"
      ]
     },
     "metadata": {
      "needs_background": "light"
     },
     "output_type": "display_data"
    }
   ],
   "source": [
    "plt.boxplot(data['density'])"
   ]
  },
  {
   "cell_type": "code",
   "execution_count": 122,
   "metadata": {},
   "outputs": [],
   "source": [
    "percentile=data['density'].quantile([0.1,0.9]).values"
   ]
  },
  {
   "cell_type": "code",
   "execution_count": 123,
   "metadata": {},
   "outputs": [],
   "source": [
    "data['density']=data['density'].clip(percentile[0],percentile[1])"
   ]
  },
  {
   "cell_type": "code",
   "execution_count": 124,
   "metadata": {},
   "outputs": [
    {
     "data": {
      "text/plain": [
       "{'whiskers': [<matplotlib.lines.Line2D at 0x12eea4e7e10>,\n",
       "  <matplotlib.lines.Line2D at 0x12eea4e7f60>],\n",
       " 'caps': [<matplotlib.lines.Line2D at 0x12eea4f5550>,\n",
       "  <matplotlib.lines.Line2D at 0x12eea4f5898>],\n",
       " 'boxes': [<matplotlib.lines.Line2D at 0x12eea4e7a58>],\n",
       " 'medians': [<matplotlib.lines.Line2D at 0x12eea4f5be0>],\n",
       " 'fliers': [<matplotlib.lines.Line2D at 0x12eea4f5f28>],\n",
       " 'means': []}"
      ]
     },
     "execution_count": 124,
     "metadata": {},
     "output_type": "execute_result"
    },
    {
     "data": {
      "image/png": "[encoded data removed]",
      "text/plain": [
       "<Figure size 432x288 with 1 Axes>"
      ]
     },
     "metadata": {
      "needs_background": "light"
     },
     "output_type": "display_data"
    }
   ],
   "source": [
    "plt.boxplot(data['density'])"
   ]
  },
  {
   "cell_type": "code",
   "execution_count": 125,
   "metadata": {},
   "outputs": [
    {
     "data": {
      "text/plain": [
       "{'whiskers': [<matplotlib.lines.Line2D at 0x12eea54b3c8>,\n",
       "  <matplotlib.lines.Line2D at 0x12eea54b780>],\n",
       " 'caps': [<matplotlib.lines.Line2D at 0x12eea54bac8>,\n",
       "  <matplotlib.lines.Line2D at 0x12eea54be10>],\n",
       " 'boxes': [<matplotlib.lines.Line2D at 0x12eea53cfd0>],\n",
       " 'medians': [<matplotlib.lines.Line2D at 0x12eea54bef0>],\n",
       " 'fliers': [<matplotlib.lines.Line2D at 0x12eea5544e0>],\n",
       " 'means': []}"
      ]
     },
     "execution_count": 125,
     "metadata": {},
     "output_type": "execute_result"
    },
    {
     "data": {
      "image/png": "[encoded data removed]",
      "text/plain": [
       "<Figure size 432x288 with 1 Axes>"
      ]
     },
     "metadata": {
      "needs_background": "light"
     },
     "output_type": "display_data"
    }
   ],
   "source": [
    "plt.boxplot(data['pH'])"
   ]
  },
  {
   "cell_type": "code",
   "execution_count": 126,
   "metadata": {},
   "outputs": [],
   "source": [
    "percentile=data['pH'].quantile([0.1,0.9]).values"
   ]
  },
  {
   "cell_type": "code",
   "execution_count": 128,
   "metadata": {},
   "outputs": [],
   "source": [
    "data['pH']=data['pH'].clip(percentile[0],percentile[1])"
   ]
  },
  {
   "cell_type": "code",
   "execution_count": 129,
   "metadata": {},
   "outputs": [
    {
     "data": {
      "text/plain": [
       "{'whiskers': [<matplotlib.lines.Line2D at 0x12eea5bd4a8>,\n",
       "  <matplotlib.lines.Line2D at 0x12eea5bd860>],\n",
       " 'caps': [<matplotlib.lines.Line2D at 0x12eea5bdba8>,\n",
       "  <matplotlib.lines.Line2D at 0x12eea5bdef0>],\n",
       " 'boxes': [<matplotlib.lines.Line2D at 0x12eea5bd0f0>],\n",
       " 'medians': [<matplotlib.lines.Line2D at 0x12eea5bdfd0>],\n",
       " 'fliers': [<matplotlib.lines.Line2D at 0x12eea5c85c0>],\n",
       " 'means': []}"
      ]
     },
     "execution_count": 129,
     "metadata": {},
     "output_type": "execute_result"
    },
    {
     "data": {
      "image/png": "[encoded data removed]",
      "text/plain": [
       "<Figure size 432x288 with 1 Axes>"
      ]
     },
     "metadata": {
      "needs_background": "light"
     },
     "output_type": "display_data"
    }
   ],
   "source": [
    "plt.boxplot(data['pH'])"
   ]
  },
  {
   "cell_type": "code",
   "execution_count": 130,
   "metadata": {},
   "outputs": [
    {
     "data": {
      "text/plain": [
       "{'whiskers': [<matplotlib.lines.Line2D at 0x12eea619a20>,\n",
       "  <matplotlib.lines.Line2D at 0x12eea619dd8>],\n",
       " 'caps': [<matplotlib.lines.Line2D at 0x12eea619eb8>,\n",
       "  <matplotlib.lines.Line2D at 0x12eea6274a8>],\n",
       " 'boxes': [<matplotlib.lines.Line2D at 0x12eea619668>],\n",
       " 'medians': [<matplotlib.lines.Line2D at 0x12eea6277f0>],\n",
       " 'fliers': [<matplotlib.lines.Line2D at 0x12eea627b38>],\n",
       " 'means': []}"
      ]
     },
     "execution_count": 130,
     "metadata": {},
     "output_type": "execute_result"
    },
    {
     "data": {
      "image/png": "[encoded data removed]",
      "text/plain": [
       "<Figure size 432x288 with 1 Axes>"
      ]
     },
     "metadata": {
      "needs_background": "light"
     },
     "output_type": "display_data"
    }
   ],
   "source": [
    "plt.boxplot(data['sulphates'])"
   ]
  },
  {
   "cell_type": "code",
   "execution_count": 131,
   "metadata": {},
   "outputs": [],
   "source": [
    "percentile=data['sulphates'].quantile([0.1,0.9]).values\n",
    "data['sulphates']=data['sulphates'].clip(percentile[0],percentile[1])"
   ]
  },
  {
   "cell_type": "code",
   "execution_count": 132,
   "metadata": {},
   "outputs": [
    {
     "data": {
      "text/plain": [
       "{'whiskers': [<matplotlib.lines.Line2D at 0x12eea676e80>,\n",
       "  <matplotlib.lines.Line2D at 0x12eea676fd0>],\n",
       " 'caps': [<matplotlib.lines.Line2D at 0x12eea6845c0>,\n",
       "  <matplotlib.lines.Line2D at 0x12eea684908>],\n",
       " 'boxes': [<matplotlib.lines.Line2D at 0x12eea676ac8>],\n",
       " 'medians': [<matplotlib.lines.Line2D at 0x12eea684c50>],\n",
       " 'fliers': [<matplotlib.lines.Line2D at 0x12eea684f98>],\n",
       " 'means': []}"
      ]
     },
     "execution_count": 132,
     "metadata": {},
     "output_type": "execute_result"
    },
    {
     "data": {
      "image/png": "[encoded data removed]",
      "text/plain": [
       "<Figure size 432x288 with 1 Axes>"
      ]
     },
     "metadata": {
      "needs_background": "light"
     },
     "output_type": "display_data"
    }
   ],
   "source": [
    "plt.boxplot(data['sulphates'])"
   ]
  },
  {
   "cell_type": "code",
   "execution_count": 133,
   "metadata": {},
   "outputs": [
    {
     "data": {
      "text/plain": [
       "{'whiskers': [<matplotlib.lines.Line2D at 0x12eea6e44a8>,\n",
       "  <matplotlib.lines.Line2D at 0x12eea6e4860>],\n",
       " 'caps': [<matplotlib.lines.Line2D at 0x12eea6e4ba8>,\n",
       "  <matplotlib.lines.Line2D at 0x12eea6e4ef0>],\n",
       " 'boxes': [<matplotlib.lines.Line2D at 0x12eea6e40f0>],\n",
       " 'medians': [<matplotlib.lines.Line2D at 0x12eea6e4fd0>],\n",
       " 'fliers': [<matplotlib.lines.Line2D at 0x12eea6ed5c0>],\n",
       " 'means': []}"
      ]
     },
     "execution_count": 133,
     "metadata": {},
     "output_type": "execute_result"
    },
    {
     "data": {
      "image/png": "[encoded data removed]",
      "text/plain": [
       "<Figure size 432x288 with 1 Axes>"
      ]
     },
     "metadata": {
      "needs_background": "light"
     },
     "output_type": "display_data"
    }
   ],
   "source": [
    "plt.boxplot(data['alcohol'])"
   ]
  },
  {
   "cell_type": "code",
   "execution_count": 134,
   "metadata": {},
   "outputs": [],
   "source": [
    "percentile=data['alcohol'].quantile([0.1,0.9]).values\n",
    "data['alcohol']=data['alcohol'].clip(percentile[0],percentile[1])"
   ]
  },
  {
   "cell_type": "code",
   "execution_count": 135,
   "metadata": {},
   "outputs": [
    {
     "data": {
      "text/plain": [
       "{'whiskers': [<matplotlib.lines.Line2D at 0x12eea742400>,\n",
       "  <matplotlib.lines.Line2D at 0x12eea7427b8>],\n",
       " 'caps': [<matplotlib.lines.Line2D at 0x12eea742b00>,\n",
       "  <matplotlib.lines.Line2D at 0x12eea742e48>],\n",
       " 'boxes': [<matplotlib.lines.Line2D at 0x12eea742048>],\n",
       " 'medians': [<matplotlib.lines.Line2D at 0x12eea742f28>],\n",
       " 'fliers': [<matplotlib.lines.Line2D at 0x12eea74e4e0>],\n",
       " 'means': []}"
      ]
     },
     "execution_count": 135,
     "metadata": {},
     "output_type": "execute_result"
    },
    {
     "data": {
      "image/png": "[encoded data removed]",
      "text/plain": [
       "<Figure size 432x288 with 1 Axes>"
      ]
     },
     "metadata": {
      "needs_background": "light"
     },
     "output_type": "display_data"
    }
   ],
   "source": [
    "plt.boxplot(data['alcohol'])"
   ]
  },
  {
   "cell_type": "code",
   "execution_count": 136,
   "metadata": {},
   "outputs": [
    {
     "data": {
      "text/plain": [
       "{'whiskers': [<matplotlib.lines.Line2D at 0x12eea798eb8>,\n",
       "  <matplotlib.lines.Line2D at 0x12eea798f28>],\n",
       " 'caps': [<matplotlib.lines.Line2D at 0x12eea7a65f8>,\n",
       "  <matplotlib.lines.Line2D at 0x12eea7a6940>],\n",
       " 'boxes': [<matplotlib.lines.Line2D at 0x12eea798b00>],\n",
       " 'medians': [<matplotlib.lines.Line2D at 0x12eea7a6c88>],\n",
       " 'fliers': [<matplotlib.lines.Line2D at 0x12eea7a6fd0>],\n",
       " 'means': []}"
      ]
     },
     "execution_count": 136,
     "metadata": {},
     "output_type": "execute_result"
    },
    {
     "data": {
      "image/png": "[encoded data removed]",
      "text/plain": [
       "<Figure size 432x288 with 1 Axes>"
      ]
     },
     "metadata": {
      "needs_background": "light"
     },
     "output_type": "display_data"
    }
   ],
   "source": [
    "plt.boxplot(data['quality (Target)'])"
   ]
  },
  {
   "cell_type": "code",
   "execution_count": 137,
   "metadata": {},
   "outputs": [],
   "source": [
    "percentile=data['quality (Target)'].quantile([0.1,0.9]).values\n",
    "data['quality (Target)']=data['quality (Target)'].clip(percentile[0],percentile[1])"
   ]
  },
  {
   "cell_type": "code",
   "execution_count": 138,
   "metadata": {},
   "outputs": [
    {
     "data": {
      "text/plain": [
       "{'whiskers': [<matplotlib.lines.Line2D at 0x12eea8026a0>,\n",
       "  <matplotlib.lines.Line2D at 0x12eea802a58>],\n",
       " 'caps': [<matplotlib.lines.Line2D at 0x12eea802da0>,\n",
       "  <matplotlib.lines.Line2D at 0x12eea802e80>],\n",
       " 'boxes': [<matplotlib.lines.Line2D at 0x12eea8022e8>],\n",
       " 'medians': [<matplotlib.lines.Line2D at 0x12eea80a470>],\n",
       " 'fliers': [<matplotlib.lines.Line2D at 0x12eea80a7b8>],\n",
       " 'means': []}"
      ]
     },
     "execution_count": 138,
     "metadata": {},
     "output_type": "execute_result"
    },
    {
     "data": {
      "image/png": "[encoded data removed]",
      "text/plain": [
       "<Figure size 432x288 with 1 Axes>"
      ]
     },
     "metadata": {
      "needs_background": "light"
     },
     "output_type": "display_data"
    }
   ],
   "source": [
    "plt.boxplot(data['quality (Target)'])"
   ]
  },
  {
   "cell_type": "markdown",
   "metadata": {},
   "source": [
    "# Standardize the Variables¶\n"
   ]
  },
  {
   "cell_type": "code",
   "execution_count": 176,
   "metadata": {},
   "outputs": [],
   "source": [
    "from sklearn.preprocessing import StandardScaler\n"
   ]
  },
  {
   "cell_type": "code",
   "execution_count": 177,
   "metadata": {},
   "outputs": [],
   "source": [
    "scaler = StandardScaler()\n"
   ]
  },
  {
   "cell_type": "code",
   "execution_count": 178,
   "metadata": {},
   "outputs": [
    {
     "data": {
      "text/plain": [
       "StandardScaler(copy=True, with_mean=True, with_std=True)"
      ]
     },
     "execution_count": 178,
     "metadata": {},
     "output_type": "execute_result"
    }
   ],
   "source": [
    "scaler.fit(data.drop('quality (Target)',axis=1))\n"
   ]
  },
  {
   "cell_type": "code",
   "execution_count": 179,
   "metadata": {},
   "outputs": [],
   "source": [
    "scaled_features = scaler.transform(data.drop('quality (Target)',axis=1))\n"
   ]
  },
  {
   "cell_type": "code",
   "execution_count": 180,
   "metadata": {},
   "outputs": [
    {
     "data": {
      "text/html": [
       "<div>\n",
       "<style scoped>\n",
       "    .dataframe tbody tr th:only-of-type {\n",
       "        vertical-align: middle;\n",
       "    }\n",
       "\n",
       "    .dataframe tbody tr th {\n",
       "        vertical-align: top;\n",
       "    }\n",
       "\n",
       "    .dataframe thead th {\n",
       "        text-align: right;\n",
       "    }\n",
       "</style>\n",
       "<table border=\"1\" class=\"dataframe\">\n",
       "  <thead>\n",
       "    <tr style=\"text-align: right;\">\n",
       "      <th></th>\n",
       "      <th>fixed acidity</th>\n",
       "      <th>volatile acidity</th>\n",
       "      <th>citric acid</th>\n",
       "      <th>residual sugar</th>\n",
       "      <th>chlorides</th>\n",
       "      <th>free sulfur dioxide</th>\n",
       "      <th>total sulfur dioxide</th>\n",
       "      <th>density</th>\n",
       "      <th>pH</th>\n",
       "      <th>sulphates</th>\n",
       "      <th>alcohol</th>\n",
       "    </tr>\n",
       "  </thead>\n",
       "  <tbody>\n",
       "    <tr>\n",
       "      <td>0</td>\n",
       "      <td>-1.275919</td>\n",
       "      <td>1.575510</td>\n",
       "      <td>-1.428774</td>\n",
       "      <td>-1.108634</td>\n",
       "      <td>-1.430360</td>\n",
       "      <td>-0.728572</td>\n",
       "      <td>-1.041284</td>\n",
       "      <td>-1.455625</td>\n",
       "      <td>1.546713</td>\n",
       "      <td>-0.132180</td>\n",
       "      <td>0.573015</td>\n",
       "    </tr>\n",
       "    <tr>\n",
       "      <td>1</td>\n",
       "      <td>0.628956</td>\n",
       "      <td>-1.469714</td>\n",
       "      <td>-0.125872</td>\n",
       "      <td>-0.411645</td>\n",
       "      <td>-0.209174</td>\n",
       "      <td>-1.194264</td>\n",
       "      <td>-0.619878</td>\n",
       "      <td>1.562326</td>\n",
       "      <td>0.813021</td>\n",
       "      <td>1.817430</td>\n",
       "      <td>-0.085172</td>\n",
       "    </tr>\n",
       "    <tr>\n",
       "      <td>2</td>\n",
       "      <td>-0.982861</td>\n",
       "      <td>0.000394</td>\n",
       "      <td>-0.069225</td>\n",
       "      <td>0.459593</td>\n",
       "      <td>-0.005643</td>\n",
       "      <td>-0.612149</td>\n",
       "      <td>-0.275091</td>\n",
       "      <td>0.063805</td>\n",
       "      <td>1.220627</td>\n",
       "      <td>-1.284222</td>\n",
       "      <td>0.682713</td>\n",
       "    </tr>\n",
       "    <tr>\n",
       "      <td>3</td>\n",
       "      <td>-0.689804</td>\n",
       "      <td>0.490430</td>\n",
       "      <td>-0.012577</td>\n",
       "      <td>-0.585892</td>\n",
       "      <td>-0.073487</td>\n",
       "      <td>0.202812</td>\n",
       "      <td>1.877910</td>\n",
       "      <td>-0.640151</td>\n",
       "      <td>-0.246756</td>\n",
       "      <td>-1.106985</td>\n",
       "      <td>-0.523964</td>\n",
       "    </tr>\n",
       "    <tr>\n",
       "      <td>4</td>\n",
       "      <td>1.801187</td>\n",
       "      <td>-1.469714</td>\n",
       "      <td>1.471598</td>\n",
       "      <td>-0.063150</td>\n",
       "      <td>0.062201</td>\n",
       "      <td>-0.379303</td>\n",
       "      <td>-0.581569</td>\n",
       "      <td>1.659905</td>\n",
       "      <td>-1.551097</td>\n",
       "      <td>1.817430</td>\n",
       "      <td>-0.633661</td>\n",
       "    </tr>\n",
       "  </tbody>\n",
       "</table>\n",
       "</div>"
      ],
      "text/plain": [
       "   fixed acidity  volatile acidity  citric acid  residual sugar  chlorides  \\\n",
       "0      -1.275919          1.575510    -1.428774       -1.108634  -1.430360   \n",
       "1       0.628956         -1.469714    -0.125872       -0.411645  -0.209174   \n",
       "2      -0.982861          0.000394    -0.069225        0.459593  -0.005643   \n",
       "3      -0.689804          0.490430    -0.012577       -0.585892  -0.073487   \n",
       "4       1.801187         -1.469714     1.471598       -0.063150   0.062201   \n",
       "\n",
       "   free sulfur dioxide  total sulfur dioxide   density        pH  sulphates  \\\n",
       "0            -0.728572             -1.041284 -1.455625  1.546713  -0.132180   \n",
       "1            -1.194264             -0.619878  1.562326  0.813021   1.817430   \n",
       "2            -0.612149             -0.275091  0.063805  1.220627  -1.284222   \n",
       "3             0.202812              1.877910 -0.640151 -0.246756  -1.106985   \n",
       "4            -0.379303             -0.581569  1.659905 -1.551097   1.817430   \n",
       "\n",
       "    alcohol  \n",
       "0  0.573015  \n",
       "1 -0.085172  \n",
       "2  0.682713  \n",
       "3 -0.523964  \n",
       "4 -0.633661  "
      ]
     },
     "execution_count": 180,
     "metadata": {},
     "output_type": "execute_result"
    }
   ],
   "source": [
    "df_feat = pd.DataFrame(scaled_features,columns=data.columns[:-1])\n",
    "df_feat.head()"
   ]
  },
  {
   "cell_type": "markdown",
   "metadata": {},
   "source": [
    "# Train Test Split¶\n"
   ]
  },
  {
   "cell_type": "code",
   "execution_count": 182,
   "metadata": {},
   "outputs": [],
   "source": [
    "from sklearn.model_selection import train_test_split\n"
   ]
  },
  {
   "cell_type": "code",
   "execution_count": 183,
   "metadata": {},
   "outputs": [],
   "source": [
    "X_train, X_test, y_train, y_test = train_test_split(data.drop('quality (Target)',axis=1), \n",
    "                                                    data['quality (Target)'], test_size=0.30, \n",
    "                                                    random_state=101)"
   ]
  },
  {
   "cell_type": "markdown",
   "metadata": {},
   "source": [
    "# Using RandomForestClassifier"
   ]
  },
  {
   "cell_type": "code",
   "execution_count": 199,
   "metadata": {},
   "outputs": [
    {
     "data": {
      "text/plain": [
       "RandomForestClassifier(bootstrap=True, class_weight=None, criterion='gini',\n",
       "                       max_depth=None, max_features='auto', max_leaf_nodes=None,\n",
       "                       min_impurity_decrease=0.0, min_impurity_split=None,\n",
       "                       min_samples_leaf=1, min_samples_split=2,\n",
       "                       min_weight_fraction_leaf=0.0, n_estimators=100,\n",
       "                       n_jobs=None, oob_score=False, random_state=None,\n",
       "                       verbose=0, warm_start=False)"
      ]
     },
     "execution_count": 199,
     "metadata": {},
     "output_type": "execute_result"
    }
   ],
   "source": [
    "from sklearn.ensemble import RandomForestClassifier\n",
    "rfc = RandomForestClassifier(n_estimators=100)\n",
    "rfc.fit(X_train, y_train)"
   ]
  },
  {
   "cell_type": "code",
   "execution_count": 200,
   "metadata": {},
   "outputs": [],
   "source": [
    "rfc_pred = rfc.predict(X_test)\n"
   ]
  },
  {
   "cell_type": "code",
   "execution_count": 201,
   "metadata": {},
   "outputs": [
    {
     "name": "stdout",
     "output_type": "stream",
     "text": [
      "[[189  43   1]\n",
      " [ 51 125  13]\n",
      " [  5  29  24]]\n"
     ]
    }
   ],
   "source": [
    "print(confusion_matrix(y_test,rfc_pred))\n"
   ]
  },
  {
   "cell_type": "code",
   "execution_count": 202,
   "metadata": {},
   "outputs": [
    {
     "name": "stdout",
     "output_type": "stream",
     "text": [
      "              precision    recall  f1-score   support\n",
      "\n",
      "           5       0.77      0.81      0.79       233\n",
      "           6       0.63      0.66      0.65       189\n",
      "           7       0.63      0.41      0.50        58\n",
      "\n",
      "    accuracy                           0.70       480\n",
      "   macro avg       0.68      0.63      0.65       480\n",
      "weighted avg       0.70      0.70      0.70       480\n",
      "\n"
     ]
    }
   ],
   "source": [
    "print(classification_report(y_test,rfc_pred))\n"
   ]
  }
 ],
 "metadata": {
  "kernelspec": {
   "display_name": "Python 3",
   "language": "python",
   "name": "python3"
  },
  "language_info": {
   "codemirror_mode": {
    "name": "ipython",
    "version": 3
   },
   "file_extension": ".py",
   "mimetype": "text/x-python",
   "name": "python",
   "nbconvert_exporter": "python",
   "pygments_lexer": "ipython3",
   "version": "3.7.3"
  }
 },
 "nbformat": 4,
 "nbformat_minor": 2
}
